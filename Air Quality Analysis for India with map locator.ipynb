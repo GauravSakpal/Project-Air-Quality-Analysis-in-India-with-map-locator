{
 "cells": [
  {
   "cell_type": "markdown",
   "id": "cf70f06b",
   "metadata": {},
   "source": [
    "## Import Dependancies"
   ]
  },
  {
   "cell_type": "code",
   "execution_count": 13,
   "id": "f5d3559d",
   "metadata": {},
   "outputs": [],
   "source": [
    "import numpy as np\n",
    "import pandas as pd \n",
    "import seaborn as sns\n",
    "import matplotlib.pyplot as plt\n",
    "import geopandas as gpd\n",
    "from geopy.geocoders import Nominatim\n",
    "import folium\n",
    "from folium import plugins\n",
    "from folium.plugins import HeatMap"
   ]
  },
  {
   "cell_type": "code",
   "execution_count": 8,
   "id": "3f6c193f",
   "metadata": {},
   "outputs": [
    {
     "name": "stdout",
     "output_type": "stream",
     "text": [
      "Collecting geopandas\n",
      "  Downloading geopandas-0.12.2-py3-none-any.whl (1.1 MB)\n",
      "Requirement already satisfied: packaging in c:\\users\\gaura\\anaconda3\\lib\\site-packages (from geopandas) (21.3)\n",
      "Collecting shapely>=1.7\n",
      "  Downloading shapely-2.0.1-cp39-cp39-win_amd64.whl (1.4 MB)\n",
      "Collecting pyproj>=2.6.1.post1\n",
      "  Downloading pyproj-3.4.1-cp39-cp39-win_amd64.whl (4.8 MB)\n",
      "Requirement already satisfied: pandas>=1.0.0 in c:\\users\\gaura\\anaconda3\\lib\\site-packages (from geopandas) (1.4.2)\n",
      "Collecting fiona>=1.8\n",
      "  Downloading Fiona-1.9.1-cp39-cp39-win_amd64.whl (22.0 MB)\n",
      "Collecting cligj>=0.5\n",
      "  Downloading cligj-0.7.2-py3-none-any.whl (7.1 kB)\n",
      "Requirement already satisfied: certifi in c:\\users\\gaura\\anaconda3\\lib\\site-packages (from fiona>=1.8->geopandas) (2021.10.8)\n",
      "Requirement already satisfied: attrs>=19.2.0 in c:\\users\\gaura\\anaconda3\\lib\\site-packages (from fiona>=1.8->geopandas) (21.4.0)\n",
      "Collecting click-plugins>=1.0\n",
      "  Downloading click_plugins-1.1.1-py2.py3-none-any.whl (7.5 kB)\n",
      "Requirement already satisfied: click~=8.0 in c:\\users\\gaura\\anaconda3\\lib\\site-packages (from fiona>=1.8->geopandas) (8.0.4)\n",
      "Collecting munch>=2.3.2\n",
      "  Downloading munch-2.5.0-py2.py3-none-any.whl (10 kB)\n",
      "Requirement already satisfied: setuptools in c:\\users\\gaura\\anaconda3\\lib\\site-packages (from fiona>=1.8->geopandas) (61.2.0)\n",
      "Requirement already satisfied: colorama in c:\\users\\gaura\\anaconda3\\lib\\site-packages (from click~=8.0->fiona>=1.8->geopandas) (0.4.4)\n",
      "Requirement already satisfied: six in c:\\users\\gaura\\anaconda3\\lib\\site-packages (from munch>=2.3.2->fiona>=1.8->geopandas) (1.16.0)\n",
      "Requirement already satisfied: pytz>=2020.1 in c:\\users\\gaura\\anaconda3\\lib\\site-packages (from pandas>=1.0.0->geopandas) (2021.3)\n",
      "Requirement already satisfied: numpy>=1.18.5 in c:\\users\\gaura\\anaconda3\\lib\\site-packages (from pandas>=1.0.0->geopandas) (1.21.5)\n",
      "Requirement already satisfied: python-dateutil>=2.8.1 in c:\\users\\gaura\\anaconda3\\lib\\site-packages (from pandas>=1.0.0->geopandas) (2.8.2)\n",
      "Requirement already satisfied: pyparsing!=3.0.5,>=2.0.2 in c:\\users\\gaura\\anaconda3\\lib\\site-packages (from packaging->geopandas) (3.0.4)\n",
      "Installing collected packages: munch, cligj, click-plugins, shapely, pyproj, fiona, geopandas\n",
      "Successfully installed click-plugins-1.1.1 cligj-0.7.2 fiona-1.9.1 geopandas-0.12.2 munch-2.5.0 pyproj-3.4.1 shapely-2.0.1\n",
      "Note: you may need to restart the kernel to use updated packages.\n"
     ]
    }
   ],
   "source": [
    "pip install geopandas"
   ]
  },
  {
   "cell_type": "code",
   "execution_count": 11,
   "id": "ce2b1899",
   "metadata": {},
   "outputs": [
    {
     "name": "stdout",
     "output_type": "stream",
     "text": [
      "Collecting geopy\n",
      "  Downloading geopy-2.3.0-py3-none-any.whl (119 kB)\n",
      "Collecting geographiclib<3,>=1.52\n",
      "  Downloading geographiclib-2.0-py3-none-any.whl (40 kB)\n",
      "Installing collected packages: geographiclib, geopy\n",
      "Successfully installed geographiclib-2.0 geopy-2.3.0\n",
      "Note: you may need to restart the kernel to use updated packages.\n"
     ]
    }
   ],
   "source": [
    "pip install geopy"
   ]
  },
  {
   "cell_type": "code",
   "execution_count": 12,
   "id": "255a1d9d",
   "metadata": {},
   "outputs": [
    {
     "name": "stdout",
     "output_type": "stream",
     "text": [
      "Collecting folium\n",
      "  Downloading folium-0.14.0-py2.py3-none-any.whl (102 kB)\n",
      "Requirement already satisfied: numpy in c:\\users\\gaura\\anaconda3\\lib\\site-packages (from folium) (1.21.5)\n",
      "Collecting branca>=0.6.0\n",
      "  Downloading branca-0.6.0-py3-none-any.whl (24 kB)\n",
      "Requirement already satisfied: requests in c:\\users\\gaura\\anaconda3\\lib\\site-packages (from folium) (2.27.1)\n",
      "Requirement already satisfied: jinja2>=2.9 in c:\\users\\gaura\\anaconda3\\lib\\site-packages (from folium) (2.11.3)\n",
      "Requirement already satisfied: MarkupSafe>=0.23 in c:\\users\\gaura\\anaconda3\\lib\\site-packages (from jinja2>=2.9->folium) (2.0.1)\n",
      "Requirement already satisfied: certifi>=2017.4.17 in c:\\users\\gaura\\anaconda3\\lib\\site-packages (from requests->folium) (2021.10.8)\n",
      "Requirement already satisfied: idna<4,>=2.5 in c:\\users\\gaura\\anaconda3\\lib\\site-packages (from requests->folium) (3.3)\n",
      "Requirement already satisfied: charset-normalizer~=2.0.0 in c:\\users\\gaura\\anaconda3\\lib\\site-packages (from requests->folium) (2.0.4)\n",
      "Requirement already satisfied: urllib3<1.27,>=1.21.1 in c:\\users\\gaura\\anaconda3\\lib\\site-packages (from requests->folium) (1.26.9)\n",
      "Installing collected packages: branca, folium\n",
      "Successfully installed branca-0.6.0 folium-0.14.0\n",
      "Note: you may need to restart the kernel to use updated packages.\n"
     ]
    }
   ],
   "source": [
    "pip install folium"
   ]
  },
  {
   "cell_type": "code",
   "execution_count": 5,
   "id": "a5ebb306",
   "metadata": {},
   "outputs": [],
   "source": [
    "df=pd.read_csv(\"C:\\\\Users\\\\gaura\\\\Downloads\\\\archive (6)\\\\Air_Quality.csv\")"
   ]
  },
  {
   "cell_type": "code",
   "execution_count": 6,
   "id": "9ffd943d",
   "metadata": {},
   "outputs": [
    {
     "data": {
      "text/html": [
       "<div>\n",
       "<style scoped>\n",
       "    .dataframe tbody tr th:only-of-type {\n",
       "        vertical-align: middle;\n",
       "    }\n",
       "\n",
       "    .dataframe tbody tr th {\n",
       "        vertical-align: top;\n",
       "    }\n",
       "\n",
       "    .dataframe thead th {\n",
       "        text-align: right;\n",
       "    }\n",
       "</style>\n",
       "<table border=\"1\" class=\"dataframe\">\n",
       "  <thead>\n",
       "    <tr style=\"text-align: right;\">\n",
       "      <th></th>\n",
       "      <th>id</th>\n",
       "      <th>country</th>\n",
       "      <th>state</th>\n",
       "      <th>city</th>\n",
       "      <th>station</th>\n",
       "      <th>pollutant_id</th>\n",
       "      <th>last_update</th>\n",
       "      <th>pollutant_min</th>\n",
       "      <th>pollutant_max</th>\n",
       "      <th>pollutant_avg</th>\n",
       "    </tr>\n",
       "  </thead>\n",
       "  <tbody>\n",
       "    <tr>\n",
       "      <th>0</th>\n",
       "      <td>1</td>\n",
       "      <td>India</td>\n",
       "      <td>Andhra_Pradesh</td>\n",
       "      <td>Amaravati</td>\n",
       "      <td>Secretariat, Amaravati - APPCB</td>\n",
       "      <td>PM2.5</td>\n",
       "      <td>21-10-2021 01:00:00</td>\n",
       "      <td>69.0</td>\n",
       "      <td>109.0</td>\n",
       "      <td>86.0</td>\n",
       "    </tr>\n",
       "    <tr>\n",
       "      <th>1</th>\n",
       "      <td>2</td>\n",
       "      <td>India</td>\n",
       "      <td>Andhra_Pradesh</td>\n",
       "      <td>Amaravati</td>\n",
       "      <td>Secretariat, Amaravati - APPCB</td>\n",
       "      <td>PM10</td>\n",
       "      <td>21-10-2021 01:00:00</td>\n",
       "      <td>82.0</td>\n",
       "      <td>138.0</td>\n",
       "      <td>105.0</td>\n",
       "    </tr>\n",
       "    <tr>\n",
       "      <th>2</th>\n",
       "      <td>3</td>\n",
       "      <td>India</td>\n",
       "      <td>Andhra_Pradesh</td>\n",
       "      <td>Amaravati</td>\n",
       "      <td>Secretariat, Amaravati - APPCB</td>\n",
       "      <td>NO2</td>\n",
       "      <td>21-10-2021 01:00:00</td>\n",
       "      <td>10.0</td>\n",
       "      <td>42.0</td>\n",
       "      <td>19.0</td>\n",
       "    </tr>\n",
       "    <tr>\n",
       "      <th>3</th>\n",
       "      <td>4</td>\n",
       "      <td>India</td>\n",
       "      <td>Andhra_Pradesh</td>\n",
       "      <td>Amaravati</td>\n",
       "      <td>Secretariat, Amaravati - APPCB</td>\n",
       "      <td>NH3</td>\n",
       "      <td>21-10-2021 01:00:00</td>\n",
       "      <td>4.0</td>\n",
       "      <td>5.0</td>\n",
       "      <td>4.0</td>\n",
       "    </tr>\n",
       "    <tr>\n",
       "      <th>4</th>\n",
       "      <td>5</td>\n",
       "      <td>India</td>\n",
       "      <td>Andhra_Pradesh</td>\n",
       "      <td>Amaravati</td>\n",
       "      <td>Secretariat, Amaravati - APPCB</td>\n",
       "      <td>SO2</td>\n",
       "      <td>21-10-2021 01:00:00</td>\n",
       "      <td>16.0</td>\n",
       "      <td>42.0</td>\n",
       "      <td>27.0</td>\n",
       "    </tr>\n",
       "  </tbody>\n",
       "</table>\n",
       "</div>"
      ],
      "text/plain": [
       "   id country           state       city                         station  \\\n",
       "0   1   India  Andhra_Pradesh  Amaravati  Secretariat, Amaravati - APPCB   \n",
       "1   2   India  Andhra_Pradesh  Amaravati  Secretariat, Amaravati - APPCB   \n",
       "2   3   India  Andhra_Pradesh  Amaravati  Secretariat, Amaravati - APPCB   \n",
       "3   4   India  Andhra_Pradesh  Amaravati  Secretariat, Amaravati - APPCB   \n",
       "4   5   India  Andhra_Pradesh  Amaravati  Secretariat, Amaravati - APPCB   \n",
       "\n",
       "  pollutant_id          last_update  pollutant_min  pollutant_max  \\\n",
       "0        PM2.5  21-10-2021 01:00:00           69.0          109.0   \n",
       "1         PM10  21-10-2021 01:00:00           82.0          138.0   \n",
       "2          NO2  21-10-2021 01:00:00           10.0           42.0   \n",
       "3          NH3  21-10-2021 01:00:00            4.0            5.0   \n",
       "4          SO2  21-10-2021 01:00:00           16.0           42.0   \n",
       "\n",
       "   pollutant_avg  \n",
       "0           86.0  \n",
       "1          105.0  \n",
       "2           19.0  \n",
       "3            4.0  \n",
       "4           27.0  "
      ]
     },
     "execution_count": 6,
     "metadata": {},
     "output_type": "execute_result"
    }
   ],
   "source": [
    "df.head()"
   ]
  },
  {
   "cell_type": "code",
   "execution_count": 14,
   "id": "b69dbd5e",
   "metadata": {},
   "outputs": [
    {
     "name": "stdout",
     "output_type": "stream",
     "text": [
      "<class 'pandas.core.frame.DataFrame'>\n",
      "RangeIndex: 1836 entries, 0 to 1835\n",
      "Data columns (total 10 columns):\n",
      " #   Column         Non-Null Count  Dtype  \n",
      "---  ------         --------------  -----  \n",
      " 0   id             1836 non-null   int64  \n",
      " 1   country        1836 non-null   object \n",
      " 2   state          1836 non-null   object \n",
      " 3   city           1836 non-null   object \n",
      " 4   station        1836 non-null   object \n",
      " 5   pollutant_id   1836 non-null   object \n",
      " 6   last_update    1836 non-null   object \n",
      " 7   pollutant_min  1738 non-null   float64\n",
      " 8   pollutant_max  1738 non-null   float64\n",
      " 9   pollutant_avg  1738 non-null   float64\n",
      "dtypes: float64(3), int64(1), object(6)\n",
      "memory usage: 143.6+ KB\n"
     ]
    }
   ],
   "source": [
    "df.info()"
   ]
  },
  {
   "cell_type": "code",
   "execution_count": 15,
   "id": "9b4ae030",
   "metadata": {},
   "outputs": [
    {
     "data": {
      "text/plain": [
       "id                0\n",
       "country           0\n",
       "state             0\n",
       "city              0\n",
       "station           0\n",
       "pollutant_id      0\n",
       "last_update       0\n",
       "pollutant_min    98\n",
       "pollutant_max    98\n",
       "pollutant_avg    98\n",
       "dtype: int64"
      ]
     },
     "execution_count": 15,
     "metadata": {},
     "output_type": "execute_result"
    }
   ],
   "source": [
    "df.isnull().sum()"
   ]
  },
  {
   "cell_type": "code",
   "execution_count": 16,
   "id": "efd4f396",
   "metadata": {},
   "outputs": [
    {
     "data": {
      "text/plain": [
       "id               0.00\n",
       "country          0.00\n",
       "state            0.00\n",
       "city             0.00\n",
       "station          0.00\n",
       "pollutant_id     0.00\n",
       "last_update      0.00\n",
       "pollutant_min    5.34\n",
       "pollutant_max    5.34\n",
       "pollutant_avg    5.34\n",
       "dtype: float64"
      ]
     },
     "execution_count": 16,
     "metadata": {},
     "output_type": "execute_result"
    }
   ],
   "source": [
    "df.isnull().mean().round(4) * 100"
   ]
  },
  {
   "cell_type": "markdown",
   "id": "e90ad919",
   "metadata": {},
   "source": [
    "## Top ten cities with highest pollution"
   ]
  },
  {
   "cell_type": "code",
   "execution_count": 57,
   "id": "9a68697e",
   "metadata": {},
   "outputs": [
    {
     "data": {
      "image/png": "[encoded data removed]",
      "text/plain": [
       "<Figure size 720x432 with 1 Axes>"
      ]
     },
     "metadata": {
      "needs_background": "light"
     },
     "output_type": "display_data"
    }
   ],
   "source": [
    "plt.figure(figsize=(10, 6))\n",
    "\n",
    "\n",
    "highest_city=df.groupby(['city'])['pollutant_avg'].mean().nlargest(10).reset_index()\n",
    "\n",
    "ax=sns.barplot(data=highest_city,x='city',y='pollutant_avg',palette='magma',linewidth=10)\n",
    "for p in ax.patches:\n",
    "    ax.annotate(format((p.get_height()), '.2f'),\n",
    "                   (p.get_x() + p.get_width() / 2., p.get_height()),\n",
    "                   ha='center', va='top',\n",
    "                   size=12,\n",
    "                   xytext=(0, 13),\n",
    "                   textcoords='offset points')\n",
    "plt.tick_params(left = False,labelleft = False)\n",
    "plt.xticks(rotation=315)\n",
    "plt.title('Top 10 Cities with highest pollution')\n",
    "plt.show()\n"
   ]
  },
  {
   "cell_type": "markdown",
   "id": "1fa77f95",
   "metadata": {},
   "source": [
    "## Top ten cities with lowest pollution"
   ]
  },
  {
   "cell_type": "code",
   "execution_count": 56,
   "id": "f4307a81",
   "metadata": {},
   "outputs": [
    {
     "data": {
      "image/png": "[encoded data removed]",
      "text/plain": [
       "<Figure size 720x432 with 1 Axes>"
      ]
     },
     "metadata": {
      "needs_background": "light"
     },
     "output_type": "display_data"
    }
   ],
   "source": [
    "plt.figure(figsize=(10, 6))\n",
    "palette = sns.light_palette(\"seagreen\", as_cmap=True)\n",
    "lowest_city=df.groupby(['city'])['pollutant_avg'].mean().nsmallest(10).reset_index()\n",
    "ax=sns.barplot(data=lowest_city,x='city',y='pollutant_avg',palette='YlGn')\n",
    "for p in ax.patches:\n",
    "    ax.annotate(format((p.get_height()), '.2f'),\n",
    "                   (p.get_x() + p.get_width() / 2., p.get_height()),\n",
    "                   ha='center', va='top',\n",
    "                   size=12,\n",
    "                   xytext=(0, 13),\n",
    "                   textcoords='offset points')\n",
    "plt.tick_params(left = False,labelleft = False)\n",
    "plt.xticks(rotation=315)\n",
    "plt.title('Top 10 Cities with lowest pollution')\n",
    "plt.show()"
   ]
  },
  {
   "cell_type": "code",
   "execution_count": 27,
   "id": "19b0ef51",
   "metadata": {},
   "outputs": [],
   "source": [
    "grouped_city = df.groupby(['city'])['pollutant_avg'].mean().reset_index()"
   ]
  },
  {
   "cell_type": "code",
   "execution_count": 28,
   "id": "2ef9d3df",
   "metadata": {},
   "outputs": [
    {
     "data": {
      "text/html": [
       "<div>\n",
       "<style scoped>\n",
       "    .dataframe tbody tr th:only-of-type {\n",
       "        vertical-align: middle;\n",
       "    }\n",
       "\n",
       "    .dataframe tbody tr th {\n",
       "        vertical-align: top;\n",
       "    }\n",
       "\n",
       "    .dataframe thead th {\n",
       "        text-align: right;\n",
       "    }\n",
       "</style>\n",
       "<table border=\"1\" class=\"dataframe\">\n",
       "  <thead>\n",
       "    <tr style=\"text-align: right;\">\n",
       "      <th></th>\n",
       "      <th>city</th>\n",
       "      <th>pollutant_avg</th>\n",
       "    </tr>\n",
       "  </thead>\n",
       "  <tbody>\n",
       "    <tr>\n",
       "      <th>0</th>\n",
       "      <td>Agartala</td>\n",
       "      <td>32.000000</td>\n",
       "    </tr>\n",
       "    <tr>\n",
       "      <th>1</th>\n",
       "      <td>Agra</td>\n",
       "      <td>72.058824</td>\n",
       "    </tr>\n",
       "    <tr>\n",
       "      <th>2</th>\n",
       "      <td>Ahmedabad</td>\n",
       "      <td>56.914286</td>\n",
       "    </tr>\n",
       "    <tr>\n",
       "      <th>3</th>\n",
       "      <td>Aizawl</td>\n",
       "      <td>12.666667</td>\n",
       "    </tr>\n",
       "    <tr>\n",
       "      <th>4</th>\n",
       "      <td>Ajmer</td>\n",
       "      <td>49.285714</td>\n",
       "    </tr>\n",
       "    <tr>\n",
       "      <th>...</th>\n",
       "      <td>...</td>\n",
       "      <td>...</td>\n",
       "    </tr>\n",
       "    <tr>\n",
       "      <th>137</th>\n",
       "      <td>Vijayapura</td>\n",
       "      <td>26.428571</td>\n",
       "    </tr>\n",
       "    <tr>\n",
       "      <th>138</th>\n",
       "      <td>Visakhapatnam</td>\n",
       "      <td>76.428571</td>\n",
       "    </tr>\n",
       "    <tr>\n",
       "      <th>139</th>\n",
       "      <td>Vrindavan</td>\n",
       "      <td>76.714286</td>\n",
       "    </tr>\n",
       "    <tr>\n",
       "      <th>140</th>\n",
       "      <td>Yadgir</td>\n",
       "      <td>27.571429</td>\n",
       "    </tr>\n",
       "    <tr>\n",
       "      <th>141</th>\n",
       "      <td>Yamunanagar</td>\n",
       "      <td>71.571429</td>\n",
       "    </tr>\n",
       "  </tbody>\n",
       "</table>\n",
       "<p>142 rows × 2 columns</p>\n",
       "</div>"
      ],
      "text/plain": [
       "              city  pollutant_avg\n",
       "0         Agartala      32.000000\n",
       "1             Agra      72.058824\n",
       "2        Ahmedabad      56.914286\n",
       "3           Aizawl      12.666667\n",
       "4            Ajmer      49.285714\n",
       "..             ...            ...\n",
       "137     Vijayapura      26.428571\n",
       "138  Visakhapatnam      76.428571\n",
       "139      Vrindavan      76.714286\n",
       "140         Yadgir      27.571429\n",
       "141    Yamunanagar      71.571429\n",
       "\n",
       "[142 rows x 2 columns]"
      ]
     },
     "execution_count": 28,
     "metadata": {},
     "output_type": "execute_result"
    }
   ],
   "source": [
    "grouped_city"
   ]
  },
  {
   "cell_type": "markdown",
   "id": "899a392a",
   "metadata": {},
   "source": [
    "## View on map using Latitude and Longitude"
   ]
  },
  {
   "cell_type": "code",
   "execution_count": 30,
   "id": "343628f5",
   "metadata": {},
   "outputs": [],
   "source": [
    "geolocator = Nominatim(timeout=1, user_agent = \"myGeolocator\")\n",
    "grouped_city = df.groupby(['city'])['pollutant_avg'].mean().reset_index()\n",
    "def geocode_my_address(addr):\n",
    "\n",
    "    try:\n",
    "        x = geolocator.geocode(addr)\n",
    "        lon_lat = x.longitude, x.latitude\n",
    "        return lon_lat\n",
    "    except:\n",
    "        lon_lat = None, None\n",
    "        return lon_lat\n",
    "\n",
    "grouped_city['lon'], grouped_city['lat'] = zip(*grouped_city['city'].apply(lambda x: geocode_my_address(x)))"
   ]
  },
  {
   "cell_type": "code",
   "execution_count": 39,
   "id": "29c88e6b",
   "metadata": {},
   "outputs": [
    {
     "data": {
      "text/html": [
       "<div style=\"width:100%;\"><div style=\"position:relative;width:100%;height:0;padding-bottom:60%;\"><span style=\"color:#565656\">Make this Notebook Trusted to load map: File -> Trust Notebook</span><iframe srcdoc=\"&lt;!DOCTYPE html&gt;\n",
       "&lt;html&gt;\n",
       "&lt;head&gt;\n",
       "    \n",
       "    &lt;meta http-equiv=&quot;content-type&quot; content=&quot;text/html; charset=UTF-8&quot; /&gt;\n",
       "    \n",
       "        &lt;script&gt;\n",
       "            L_NO_TOUCH = false;\n",
       "            L_DISABLE_3D = false;\n",
       "        &lt;/script&gt;\n",
       "    \n",
       "    &lt;style&gt;html, body {width: 100%;height: 100%;margin: 0;padding: 0;}&lt;/style&gt;\n",
       "    &lt;style&gt;#map {position:absolute;top:0;bottom:0;right:0;left:0;}&lt;/style&gt;\n",
       "    &lt;script src=&quot;https://cdn.jsdelivr.net/npm/leaflet@1.9.3/dist/leaflet.js&quot;&gt;&lt;/script&gt;\n",
       "    &lt;script src=&quot;https://code.jquery.com/jquery-1.12.4.min.js&quot;&gt;&lt;/script&gt;\n",
       "    &lt;script src=&quot;https://cdn.jsdelivr.net/npm/bootstrap@5.2.2/dist/js/bootstrap.bundle.min.js&quot;&gt;&lt;/script&gt;\n",
       "    &lt;script src=&quot;https://cdnjs.cloudflare.com/ajax/libs/Leaflet.awesome-markers/2.0.2/leaflet.awesome-markers.js&quot;&gt;&lt;/script&gt;\n",
       "    &lt;link rel=&quot;stylesheet&quot; href=&quot;https://cdn.jsdelivr.net/npm/leaflet@1.9.3/dist/leaflet.css&quot;/&gt;\n",
       "    &lt;link rel=&quot;stylesheet&quot; href=&quot;https://cdn.jsdelivr.net/npm/bootstrap@5.2.2/dist/css/bootstrap.min.css&quot;/&gt;\n",
       "    &lt;link rel=&quot;stylesheet&quot; href=&quot;https://netdna.bootstrapcdn.com/bootstrap/3.0.0/css/bootstrap.min.css&quot;/&gt;\n",
       "    &lt;link rel=&quot;stylesheet&quot; href=&quot;https://cdn.jsdelivr.net/npm/@fortawesome/fontawesome-free@6.2.0/css/all.min.css&quot;/&gt;\n",
       "    &lt;link rel=&quot;stylesheet&quot; href=&quot;https://cdnjs.cloudflare.com/ajax/libs/Leaflet.awesome-markers/2.0.2/leaflet.awesome-markers.css&quot;/&gt;\n",
       "    &lt;link rel=&quot;stylesheet&quot; href=&quot;https://cdn.jsdelivr.net/gh/python-visualization/folium/folium/templates/leaflet.awesome.rotate.min.css&quot;/&gt;\n",
       "    \n",
       "            &lt;meta name=&quot;viewport&quot; content=&quot;width=device-width,\n",
       "                initial-scale=1.0, maximum-scale=1.0, user-scalable=no&quot; /&gt;\n",
       "            &lt;style&gt;\n",
       "                #map_54aac5e489f603714d2a103934818a12 {\n",
       "                    position: relative;\n",
       "                    width: 100.0%;\n",
       "                    height: 100.0%;\n",
       "                    left: 0.0%;\n",
       "                    top: 0.0%;\n",
       "                }\n",
       "                .leaflet-container { font-size: 1rem; }\n",
       "            &lt;/style&gt;\n",
       "        \n",
       "    &lt;script src=&quot;https://cdn.jsdelivr.net/gh/python-visualization/folium@main/folium/templates/leaflet_heat.min.js&quot;&gt;&lt;/script&gt;\n",
       "&lt;/head&gt;\n",
       "&lt;body&gt;\n",
       "    \n",
       "    \n",
       "            &lt;div class=&quot;folium-map&quot; id=&quot;map_54aac5e489f603714d2a103934818a12&quot; &gt;&lt;/div&gt;\n",
       "        \n",
       "&lt;/body&gt;\n",
       "&lt;script&gt;\n",
       "    \n",
       "    \n",
       "            var map_54aac5e489f603714d2a103934818a12 = L.map(\n",
       "                &quot;map_54aac5e489f603714d2a103934818a12&quot;,\n",
       "                {\n",
       "                    center: [19.667417, 76.827826],\n",
       "                    crs: L.CRS.EPSG3857,\n",
       "                    zoom: 5,\n",
       "                    zoomControl: true,\n",
       "                    preferCanvas: false,\n",
       "                }\n",
       "            );\n",
       "\n",
       "            \n",
       "\n",
       "        \n",
       "    \n",
       "            var tile_layer_0bda317d7204b67f542c1096a16fe05c = L.tileLayer(\n",
       "                &quot;https://stamen-tiles-{s}.a.ssl.fastly.net/toner/{z}/{x}/{y}.png&quot;,\n",
       "                {&quot;attribution&quot;: &quot;Map tiles by \\u003ca target=\\&quot;_blank\\&quot; href=\\&quot;http://stamen.com\\&quot;\\u003eStamen Design\\u003c/a\\u003e, under \\u003ca target=\\&quot;_blank\\&quot; href=\\&quot;http://creativecommons.org/licenses/by/3.0\\&quot;\\u003eCC BY 3.0\\u003c/a\\u003e. Data by \\u0026copy; \\u003ca target=\\&quot;_blank\\&quot; href=\\&quot;http://openstreetmap.org\\&quot;\\u003eOpenStreetMap\\u003c/a\\u003e, under \\u003ca target=\\&quot;_blank\\&quot; href=\\&quot;http://www.openstreetmap.org/copyright\\&quot;\\u003eODbL\\u003c/a\\u003e.&quot;, &quot;detectRetina&quot;: false, &quot;maxNativeZoom&quot;: 18, &quot;maxZoom&quot;: 18, &quot;minZoom&quot;: 0, &quot;noWrap&quot;: false, &quot;opacity&quot;: 1, &quot;subdomains&quot;: &quot;abc&quot;, &quot;tms&quot;: false}\n",
       "            ).addTo(map_54aac5e489f603714d2a103934818a12);\n",
       "        \n",
       "    \n",
       "            var heat_map_4fd45da99814ba1b9fe0d2730976b7a9 = L.heatLayer(\n",
       "                [[23.8312377, 91.2823821], [27.1752554, 78.0098161], [23.0216238, 72.5797068], [23.7435236, 92.7382905], [26.4691, 74.639], [27.5, 76.5], [16.5096679, 80.5184535], [30.3843674, 76.770421], [31.6343083, 74.8736788], [21.6293206, 72.9945103], [23.6871297, 86.9746587], [24.786306, 84.41448983395554], [16.1853166, 75.6967919], [28.97240405, 77.33315284938224], [28.660964800000002, 76.83467647083376], [28.291713950000002, 77.36044260532603], [30.17911535, 75.04710156312628], [12.9767936, 77.590082], [28.2039413, 76.837441], [28.7931703, 76.1391283], [23.2584857, 77.401989], [28.8680526, 79.29838501460121], [21.8498594, 83.9254698], [28.38886085, 77.97479772598118], [11.9346006, 76.9328209], [30.72984395, 76.78414567016054], [20.0967555, 79.50454752230621], [28.5919933, 76.2719817], [13.0836939, 80.270186], [13.6102243, 77.5127721], [13.5, 75.5], [23.75, 79.583333], [14.4661266, 75.9206361], [28.6517178, 77.2219388], [23.0, 76.166667], [28.2055216, 76.7953099], [23.5350475, 87.3380425], [10.06977495, 76.30790414435911], [9.98408, 76.2741457], [28.4031478, 77.3105561], [29.51238035, 75.4291789790538], [27.17736635, 78.38991197951182], [23.2232877, 72.6492267], [24.7964355, 85.0079563], [28.6711527, 77.4120356], [26.6711433, 83.36457243864551], [28.4670734, 77.5137649], [13.4304882, 80.08203490514214], [28.4646148, 77.0299194], [26.1805978, 91.753943], [26.2037247, 78.1573628], [25.7205805, 85.25555961402884], [22.028124, 88.0632655], [28.740612499999997, 77.83542556519009], [13.0070817, 76.0992703], [29.080640950000003, 75.788754109493], [22.5736296, 88.3251045], [15.3518378, 75.1379848], [17.38878595, 78.46106473453146], [22.7203616, 75.8681996], [23.1608938, 79.9497702], [26.9154576, 75.8189817], [31.29201065, 75.56805772253911], [29.301826249999998, 76.33847076788838], [26.2967719, 73.0351433], [23.7167069, 86.4110166], [29.822820749999998, 76.37830986647243], [17.315062949999998, 76.83148611586668], [19.2716301, 73.23586552517415], [11.8763836, 75.3737973], [26.4609135, 80.3217588], [29.6803266, 76.9896254], [23.8339621, 80.392456], [25.5656914, 80.0634887], [9.9674277, 76.2454436], [25.75, 94.166667], [13.1367201, 78.1337246], [22.5726459, 88.3638953], [8.8879509, 76.5955013], [15.3484144, 76.1547421], [25.1737019, 75.8574194], [11.2450558, 75.7754716], [29.9693747, 76.8482787], [26.8381, 80.9346001], [30.9090157, 75.851601], [30.6518301, 76.2998708], [23.0965633, 77.5144525], [27.897075, 76.9922014], [28.32470955, 76.92637867182586], [12.87054545, 74.84165833577245], [29.000652549999998, 77.76822875372174], [28.8638424, 78.80577833091104], [19.0785451, 72.878176], [29.44800635, 77.74068502568672], [26.1486581, 85.34001282479626], [12.3051828, 76.6553609], [22.4178037, 73.0949186], [27.9981957, 76.07674276086783], [20.0112475, 73.7902364], [19.0308262, 73.0198537], [28.5707841, 77.3271074], [48.8588897, 2.3200410217200766], [28.176958900000002, 77.37311203790532], [30.7137692, 76.86827600027706], [29.3912753, 76.9771675], [30.2090874, 76.3398720856221], [25.6093239, 85.1235252], [22.6105576, 75.6790283], [25.4381302, 81.8338005], [10.91564885, 79.80694879844232], [18.521428, 73.8544541], [16.083333, 77.166667], [17.0050454, 81.7804732], [12.7252766, 77.2804797], [23.502187, 74.95397841237119], [28.9010899, 76.5801935], [31.09168085, 76.5272673916138], [23.80961225, 78.75911360578634], [24.5, 81.0], [25.5760446, 91.8825282], [13.9326093, 75.574978], [24.1974432, 82.6661453], [29.583333, 75.083333], [28.9953758, 77.0233627], [34.0747444, 74.8204443], [20.9458183, 85.2111736], [19.1943294, 72.9701779], [8.4882267, 76.947551], [8.8052602, 78.1452745], [13.77928955, 79.83512262283737], [24.578721, 73.6862571], [13.3419169, 74.7473232], [23.1885131, 75.7716562], [20.3735482, 72.9084376], [25.3356491, 83.0076292], [22.9589978, 72.6297981], [16.666667, 75.916667], [17.7231276, 83.3012842], [27.5753726, 77.6938045], [16.7670964, 77.1403984], [30.2112003, 77.28638972360895]],\n",
       "                {&quot;blur&quot;: 15, &quot;maxZoom&quot;: 18, &quot;minOpacity&quot;: 0.5, &quot;radius&quot;: 15}\n",
       "            ).addTo(map_54aac5e489f603714d2a103934818a12);\n",
       "        \n",
       "&lt;/script&gt;\n",
       "&lt;/html&gt;\" style=\"position:absolute;width:100%;height:100%;left:0;top:0;border:none !important;\" allowfullscreen webkitallowfullscreen mozallowfullscreen></iframe></div></div>"
      ],
      "text/plain": [
       "<folium.folium.Map at 0x1a76964b1c0>"
      ]
     },
     "execution_count": 39,
     "metadata": {},
     "output_type": "execute_result"
    }
   ],
   "source": [
    "city_map = folium.Map(location=[19.667417,76.827826], tiles = \"Stamen Toner\",\n",
    "                    \n",
    "                      zoom_start = 5)\n",
    "\n",
    "data_heatmap = grouped_city[['lat','lon']]\n",
    "data_heatmap = grouped_city.dropna(axis=0, subset=['lat','lon'])\n",
    "data_heatmap = [[row['lat'],row['lon']] for index, row in data_heatmap.iterrows()]\n",
    "HeatMap(data_heatmap, radius=15).add_to(city_map)\n",
    "\n",
    "city_map"
   ]
  },
  {
   "cell_type": "markdown",
   "id": "e6517123",
   "metadata": {},
   "source": [
    "## AQI Highest in Delhi followed by Uttar pradesh & Haryana"
   ]
  },
  {
   "cell_type": "code",
   "execution_count": null,
   "id": "e561d280",
   "metadata": {},
   "outputs": [],
   "source": []
  },
  {
   "cell_type": "markdown",
   "id": "364f7379",
   "metadata": {},
   "source": [
    "## Top 10 States with highest pollution"
   ]
  },
  {
   "cell_type": "code",
   "execution_count": 54,
   "id": "e1ac25b0",
   "metadata": {},
   "outputs": [
    {
     "data": {
      "image/png": "[encoded data removed]",
      "text/plain": [
       "<Figure size 720x432 with 1 Axes>"
      ]
     },
     "metadata": {
      "needs_background": "light"
     },
     "output_type": "display_data"
    }
   ],
   "source": [
    "plt.figure(figsize=(10, 6))\n",
    "\n",
    "\n",
    "highest_states=df.groupby(['state'])['pollutant_avg'].mean().nlargest(10).reset_index()\n",
    "\n",
    "ax=sns.barplot(data=highest_states,x='state',y='pollutant_avg',palette='magma',linewidth=10)\n",
    "for p in ax.patches:\n",
    "    ax.annotate(format((p.get_height()), '.2f'),\n",
    "                   (p.get_x() + p.get_width() / 2., p.get_height()),\n",
    "                   ha='center', va='top',\n",
    "                   size=12,\n",
    "                   xytext=(0, 13),\n",
    "                   textcoords='offset points')\n",
    "plt.tick_params(left = False,labelleft = False)\n",
    "plt.xticks(rotation=315)\n",
    "plt.title('Top 10 States with highest pollution')\n",
    "plt.show()"
   ]
  },
  {
   "cell_type": "markdown",
   "id": "1ff66f45",
   "metadata": {},
   "source": [
    "## Top 10 States with lowest pollution"
   ]
  },
  {
   "cell_type": "code",
   "execution_count": 55,
   "id": "15139ab7",
   "metadata": {},
   "outputs": [
    {
     "data": {
      "image/png": "[encoded data removed]",
      "text/plain": [
       "<Figure size 720x432 with 1 Axes>"
      ]
     },
     "metadata": {
      "needs_background": "light"
     },
     "output_type": "display_data"
    }
   ],
   "source": [
    "plt.figure(figsize=(10, 6))\n",
    "\n",
    "lowest_states=df.groupby(['state'])['pollutant_avg'].mean().nsmallest(10).reset_index()\n",
    "ax=sns.barplot(data=lowest_states,x='state',y='pollutant_avg',palette='YlGn')\n",
    "for p in ax.patches:\n",
    "    ax.annotate(format((p.get_height()), '.2f'),\n",
    "                   (p.get_x() + p.get_width() / 2., p.get_height()),\n",
    "                   ha='center', va='top',\n",
    "                   size=12,\n",
    "                   xytext=(0, 13),\n",
    "                   textcoords='offset points')\n",
    "plt.tick_params(left = False,labelleft = False)\n",
    "plt.xticks(rotation=315)\n",
    "plt.title('Top 10 States with lowest pollution')\n",
    "plt.show()"
   ]
  },
  {
   "cell_type": "code",
   "execution_count": null,
   "id": "14115e07",
   "metadata": {},
   "outputs": [],
   "source": []
  }
 ],
 "metadata": {
  "kernelspec": {
   "display_name": "Python 3 (ipykernel)",
   "language": "python",
   "name": "python3"
  },
  "language_info": {
   "codemirror_mode": {
    "name": "ipython",
    "version": 3
   },
   "file_extension": ".py",
   "mimetype": "text/x-python",
   "name": "python",
   "nbconvert_exporter": "python",
   "pygments_lexer": "ipython3",
   "version": "3.9.12"
  }
 },
 "nbformat": 4,
 "nbformat_minor": 5
}
